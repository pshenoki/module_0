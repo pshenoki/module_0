{
 "cells": [
  {
   "cell_type": "code",
   "execution_count": 5,
   "metadata": {},
   "outputs": [
    {
     "name": "stdout",
     "output_type": "stream",
     "text": [
      "Ваше число от 1 до 100\n",
      "Загаданное чисто 96, посмотрим, на что ты способен питон \n",
      "50 - это попытка № 1\n",
      "75 - это попытка №2\n",
      "87 - это попытка №3\n",
      "93 - это попытка №4\n",
      "96 - это попытка №5\n",
      "Программа угадала число 96 за 5 попыток.\n"
     ]
    }
   ],
   "source": [
    "import numpy as np\n",
    "number = np.random.randint(1,101)     # загадали число\n",
    "print (\"Ваше число от 1 до 100\")\n",
    "count = 1                             # начинаем с 1, потому что первым делом сравниваем с числом half = 50\n",
    "dawn = 1                              # нижняя граница\n",
    "up = 100                              # верхняя граница  \n",
    "half = (up + dawn)/2                  # значение среднне арифметическое, число для сравнения\n",
    "step = (up - dawn)/2                  # шаг \n",
    "print (\"Загаданное чисто {}, посмотрим, на что ты способен питон \".format(number))\n",
    "print (\"50 - это попытка № 1\")\n",
    "while number!=half:\n",
    "    \n",
    "    if number>half:\n",
    "        dawn=dawn + step \n",
    "        \n",
    "    if number<half:\n",
    "        dawn=dawn - step\n",
    "        \n",
    "    half=int((up + dawn)/2)    \n",
    "    step=step/2\n",
    "    count+=1\n",
    "    print(str(half) + \" - это попытка №\" + str(count))        # смотрим, вариант который предлагается\n",
    "                                                             \n",
    "else:\n",
    "    print (\"Программа угадала число {} за {} попыток.\".format(number,count))"
   ]
  },
  {
   "cell_type": "code",
   "execution_count": 77,
   "metadata": {},
   "outputs": [
    {
     "name": "stdout",
     "output_type": "stream",
     "text": [
      "Введите интервал поиска. Сначала нижний предел, потом верхний\n",
      "1\n",
      "5000\n",
      "Ваше число от 1 до 5000\n",
      "загаданное чисто - 4097, посмотрим, на что ты способен питон \n",
      "3750\n",
      "4375\n",
      "4062\n",
      "4218\n",
      "4140\n",
      "4101\n",
      "4082\n",
      "4091\n",
      "4096\n",
      "4099\n",
      "4098\n",
      "4097\n",
      "Вы угадали число 4097 за 13 попыток.\n"
     ]
    }
   ],
   "source": [
    "import numpy as np                     #Игра для произвольного предела\n",
    "print(\"Введите интервал поиска. Сначала нижний предел, потом верхний\")\n",
    "x= input()\n",
    "y= input()\n",
    "if int(x) < int(y):\n",
    "    number = np.random.randint(x,y)    # загадали число\n",
    "    print (\"Ваше число от {} до {}\".format(x,y))\n",
    "    count = 1                            # начинаем с 1, потому что первым делом сравниваем с числом half = 50\n",
    "    dawn = int(x)                             # нижняя граница\n",
    "    up= int(y)                              # верхняя граница  \n",
    "    half = (up + dawn)/2                 # значение среднне арифметическое, число для сравнения\n",
    "    step = (up-dawn)/2                   # шаг \n",
    "    print (\"загаданное чисто - {}, посмотрим, на что ты способен питон \".format(number))\n",
    "    while number!=half:\n",
    "\n",
    "        if number>half:\n",
    "            dawn=dawn + step \n",
    "\n",
    "        if number<half:\n",
    "            dawn=dawn - step\n",
    "\n",
    "        half=int((up + dawn)/2)    \n",
    "        step=step/2\n",
    "        count+=1\n",
    "        print(half)                       # смотрим, вариант который предлагается      \n",
    "    else:\n",
    "        print (\"Вы угадали число {} за {} попыток.\".format(number,count))\n",
    "else:\n",
    "    print(\"Алло! Читать умеешь?\")"
   ]
  },
  {
   "cell_type": "code",
   "execution_count": null,
   "metadata": {},
   "outputs": [],
   "source": []
  },
  {
   "cell_type": "code",
   "execution_count": null,
   "metadata": {},
   "outputs": [],
   "source": []
  }
 ],
 "metadata": {
  "kernelspec": {
   "display_name": "Python 3",
   "language": "python",
   "name": "python3"
  },
  "language_info": {
   "codemirror_mode": {
    "name": "ipython",
    "version": 3
   },
   "file_extension": ".py",
   "mimetype": "text/x-python",
   "name": "python",
   "nbconvert_exporter": "python",
   "pygments_lexer": "ipython3",
   "version": "3.8.3"
  }
 },
 "nbformat": 4,
 "nbformat_minor": 4
}
